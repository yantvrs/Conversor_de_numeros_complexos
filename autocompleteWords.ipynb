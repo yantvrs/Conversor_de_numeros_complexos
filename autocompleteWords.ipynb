{
  "nbformat": 4,
  "nbformat_minor": 0,
  "metadata": {
    "colab": {
      "provenance": [],
      "mount_file_id": "1We-igJHDf9QHmyj4doc8CqD7vVi1-T41",
      "authorship_tag": "ABX9TyOL5rwsJKkvUH2yiue3Y0zG",
      "include_colab_link": true
    },
    "kernelspec": {
      "name": "python3",
      "display_name": "Python 3"
    },
    "language_info": {
      "name": "python"
    }
  },
  "cells": [
    {
      "cell_type": "markdown",
      "metadata": {
        "id": "view-in-github",
        "colab_type": "text"
      },
      "source": [
        "<a href=\"https://colab.research.google.com/github/yantvrs/Conversor_de_numeros_complexos/blob/main/autocompleteWords.ipynb\" target=\"_parent\"><img src=\"https://colab.research.google.com/assets/colab-badge.svg\" alt=\"Open In Colab\"/></a>"
      ]
    },
    {
      "cell_type": "code",
      "execution_count": 8,
      "metadata": {
        "colab": {
          "base_uri": "https://localhost:8080/"
        },
        "id": "yaRQFuUIEtcM",
        "outputId": "59abca14-6020-486c-e506-36de0f23f081"
      },
      "outputs": [
        {
          "output_type": "stream",
          "name": "stdout",
          "text": [
            "inteligência artificial e seus impactos na sociedade\n",
            "\n",
            "a inteligência artificial (ia) é uma área da ciência da computação que busca criar sistemas capazes de realizar tarefas que, quando feitas por seres humanos, requerem inteligência. essa tecnologia tem avançado rapidamente nas últimas décadas e está transformando diversos setores da sociedade, desde a indústria até a medicina. no entanto, esses avanços também levantam questões importantes sobre seus impactos na sociedade.\n",
            "\n",
            "um dos principais impactos da ia é a automação de tarefas. máquinas inteligentes podem realizar trabalhos que antes eram feitos por humanos, o que pode levar a mudanças significativas no mercado de trabalho. profissões que envolvem tarefas repetitivas e previsíveis estão em risco de serem substituídas por sistemas de ia, o que pode resultar em desemprego e na necessidade de requalificação da força de trabalho.\n",
            "\n",
            "além disso, a ia também levanta questões éticas. como os sistemas de ia aprendem com dados, eles podem herdar preconceitos e vieses presentes nos dados de treinamento. isso pode resultar em discriminação e decisões injustas em áreas como recrutamento, crédito e justiça criminal. portanto, é essencial garantir que os algoritmos sejam treinados com dados imparciais e que haja supervisão humana no processo.\n",
            "\n",
            "a privacidade também é uma preocupação quando se trata de ia. os sistemas de ia podem coletar e analisar grandes quantidades de dados pessoais, o que levanta preocupações sobre a proteção da privacidade das pessoas. é importante estabelecer regulamentações rigorosas para garantir que os dados sejam usados de maneira ética e que a privacidade seja preservada.\n",
            "\n",
            "apesar desses desafios, a ia também oferece muitos benefícios para a sociedade. ela pode melhorar a eficiência de processos, ajudar na tomada de decisões mais informadas na medicina e na pesquisa, e até mesmo auxiliar em tarefas de segurança, como detecção de fraudes e prevenção de crimes.\n",
            "\n",
            "em resumo, a inteligência artificial é uma tecnologia poderosa que está transformando a sociedade de várias maneiras. é fundamental que exploremos seu potencial de forma ética e responsável, abordando questões como automação, viés e privacidade, para garantir que a ia beneficie a sociedade como um todo.\n"
          ]
        }
      ],
      "source": [
        "\n",
        "corpus = \"\"\"Inteligência Artificial e Seus Impactos na Sociedade\n",
        "\n",
        "A Inteligência Artificial (IA) é uma área da ciência da computação que busca criar sistemas capazes de realizar tarefas que, quando feitas por seres humanos, requerem inteligência. Essa tecnologia tem avançado rapidamente nas últimas décadas e está transformando diversos setores da sociedade, desde a indústria até a medicina. No entanto, esses avanços também levantam questões importantes sobre seus impactos na sociedade.\n",
        "\n",
        "Um dos principais impactos da IA é a automação de tarefas. Máquinas inteligentes podem realizar trabalhos que antes eram feitos por humanos, o que pode levar a mudanças significativas no mercado de trabalho. Profissões que envolvem tarefas repetitivas e previsíveis estão em risco de serem substituídas por sistemas de IA, o que pode resultar em desemprego e na necessidade de requalificação da força de trabalho.\n",
        "\n",
        "Além disso, a IA também levanta questões éticas. Como os sistemas de IA aprendem com dados, eles podem herdar preconceitos e vieses presentes nos dados de treinamento. Isso pode resultar em discriminação e decisões injustas em áreas como recrutamento, crédito e justiça criminal. Portanto, é essencial garantir que os algoritmos sejam treinados com dados imparciais e que haja supervisão humana no processo.\n",
        "\n",
        "A privacidade também é uma preocupação quando se trata de IA. Os sistemas de IA podem coletar e analisar grandes quantidades de dados pessoais, o que levanta preocupações sobre a proteção da privacidade das pessoas. É importante estabelecer regulamentações rigorosas para garantir que os dados sejam usados de maneira ética e que a privacidade seja preservada.\n",
        "\n",
        "Apesar desses desafios, a IA também oferece muitos benefícios para a sociedade. Ela pode melhorar a eficiência de processos, ajudar na tomada de decisões mais informadas na medicina e na pesquisa, e até mesmo auxiliar em tarefas de segurança, como detecção de fraudes e prevenção de crimes.\n",
        "\n",
        "Em resumo, a Inteligência Artificial é uma tecnologia poderosa que está transformando a sociedade de várias maneiras. É fundamental que exploremos seu potencial de forma ética e responsável, abordando questões como automação, viés e privacidade, para garantir que a IA beneficie a sociedade como um todo.\"\"\"\n",
        "\n",
        "corpus = corpus.lower()\n",
        "\n",
        "print(corpus)\n",
        "\n"
      ]
    }
  ]
}