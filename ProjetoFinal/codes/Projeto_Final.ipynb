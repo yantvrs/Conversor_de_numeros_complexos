{
  "nbformat": 4,
  "nbformat_minor": 0,
  "metadata": {
    "colab": {
      "provenance": [],
      "include_colab_link": true
    },
    "kernelspec": {
      "name": "python3",
      "display_name": "Python 3"
    },
    "language_info": {
      "name": "python"
    }
  },
  "cells": [
    {
      "cell_type": "markdown",
      "metadata": {
        "id": "view-in-github",
        "colab_type": "text"
      },
      "source": [
        "<a href=\"https://colab.research.google.com/github/yantvrs/Conversor_de_numeros_complexos/blob/main/ProjetoFinal/codes/Projeto_Final.ipynb\" target=\"_parent\"><img src=\"https://colab.research.google.com/assets/colab-badge.svg\" alt=\"Open In Colab\"/></a>"
      ]
    },
    {
      "cell_type": "code",
      "source": [
        "!pip install osmnx"
      ],
      "metadata": {
        "colab": {
          "base_uri": "https://localhost:8080/"
        },
        "id": "RxnbJJjXPagJ",
        "outputId": "24d4888e-2cd8-4370-8223-d1cc12a22454"
      },
      "execution_count": null,
      "outputs": [
        {
          "output_type": "stream",
          "name": "stdout",
          "text": [
            "Collecting osmnx\n",
            "  Downloading osmnx-1.8.0-py3-none-any.whl (102 kB)\n",
            "\u001b[2K     \u001b[90m━━━━━━━━━━━━━━━━━━━━━━━━━━━━━━━━━━━━━━━━\u001b[0m \u001b[32m102.9/102.9 kB\u001b[0m \u001b[31m590.8 kB/s\u001b[0m eta \u001b[36m0:00:00\u001b[0m\n",
            "\u001b[?25hRequirement already satisfied: geopandas>=0.12 in /usr/local/lib/python3.10/dist-packages (from osmnx) (0.13.2)\n",
            "Requirement already satisfied: networkx>=2.5 in /usr/local/lib/python3.10/dist-packages (from osmnx) (3.2.1)\n",
            "Requirement already satisfied: numpy>=1.20 in /usr/local/lib/python3.10/dist-packages (from osmnx) (1.23.5)\n",
            "Requirement already satisfied: pandas>=1.1 in /usr/local/lib/python3.10/dist-packages (from osmnx) (1.5.3)\n",
            "Requirement already satisfied: requests>=2.27 in /usr/local/lib/python3.10/dist-packages (from osmnx) (2.31.0)\n",
            "Requirement already satisfied: shapely>=2.0 in /usr/local/lib/python3.10/dist-packages (from osmnx) (2.0.2)\n",
            "Requirement already satisfied: fiona>=1.8.19 in /usr/local/lib/python3.10/dist-packages (from geopandas>=0.12->osmnx) (1.9.5)\n",
            "Requirement already satisfied: packaging in /usr/local/lib/python3.10/dist-packages (from geopandas>=0.12->osmnx) (23.2)\n",
            "Requirement already satisfied: pyproj>=3.0.1 in /usr/local/lib/python3.10/dist-packages (from geopandas>=0.12->osmnx) (3.6.1)\n",
            "Requirement already satisfied: python-dateutil>=2.8.1 in /usr/local/lib/python3.10/dist-packages (from pandas>=1.1->osmnx) (2.8.2)\n",
            "Requirement already satisfied: pytz>=2020.1 in /usr/local/lib/python3.10/dist-packages (from pandas>=1.1->osmnx) (2023.3.post1)\n",
            "Requirement already satisfied: charset-normalizer<4,>=2 in /usr/local/lib/python3.10/dist-packages (from requests>=2.27->osmnx) (3.3.2)\n",
            "Requirement already satisfied: idna<4,>=2.5 in /usr/local/lib/python3.10/dist-packages (from requests>=2.27->osmnx) (3.6)\n",
            "Requirement already satisfied: urllib3<3,>=1.21.1 in /usr/local/lib/python3.10/dist-packages (from requests>=2.27->osmnx) (2.0.7)\n",
            "Requirement already satisfied: certifi>=2017.4.17 in /usr/local/lib/python3.10/dist-packages (from requests>=2.27->osmnx) (2023.11.17)\n",
            "Requirement already satisfied: attrs>=19.2.0 in /usr/local/lib/python3.10/dist-packages (from fiona>=1.8.19->geopandas>=0.12->osmnx) (23.1.0)\n",
            "Requirement already satisfied: click~=8.0 in /usr/local/lib/python3.10/dist-packages (from fiona>=1.8.19->geopandas>=0.12->osmnx) (8.1.7)\n",
            "Requirement already satisfied: click-plugins>=1.0 in /usr/local/lib/python3.10/dist-packages (from fiona>=1.8.19->geopandas>=0.12->osmnx) (1.1.1)\n",
            "Requirement already satisfied: cligj>=0.5 in /usr/local/lib/python3.10/dist-packages (from fiona>=1.8.19->geopandas>=0.12->osmnx) (0.7.2)\n",
            "Requirement already satisfied: six in /usr/local/lib/python3.10/dist-packages (from fiona>=1.8.19->geopandas>=0.12->osmnx) (1.16.0)\n",
            "Requirement already satisfied: setuptools in /usr/local/lib/python3.10/dist-packages (from fiona>=1.8.19->geopandas>=0.12->osmnx) (67.7.2)\n",
            "Installing collected packages: osmnx\n",
            "Successfully installed osmnx-1.8.0\n"
          ]
        }
      ]
    },
    {
      "cell_type": "code",
      "source": [
        "import networkx as nx\n",
        "import pandas as pd\n",
        "import osmnx as ox\n",
        "\n",
        "ox.settings.log_console = True\n",
        "ox.__version__"
      ],
      "metadata": {
        "id": "lHQhTue6PT8k",
        "colab": {
          "base_uri": "https://localhost:8080/",
          "height": 35
        },
        "outputId": "0b8ac69f-f3ef-48e1-cb58-d33b3731c881"
      },
      "execution_count": null,
      "outputs": [
        {
          "output_type": "execute_result",
          "data": {
            "text/plain": [
              "'1.8.0'"
            ],
            "application/vnd.google.colaboratory.intrinsic+json": {
              "type": "string"
            }
          },
          "metadata": {},
          "execution_count": 2
        }
      ]
    },
    {
      "cell_type": "code",
      "source": [
        "def get_cycleways_graph(query):\n",
        "    # Configuração das tags úteis para a biblioteca OSMnx\n",
        "    useful_tags = ox.settings.useful_tags_way + ['cycleway'] + ['bicycle']\n",
        "    ox.utils.config(use_cache=True, log_console=True, useful_tags_way=useful_tags)\n",
        "\n",
        "    # Baixa o grafo da rede de ciclovias\n",
        "    G = ox.graph_from_place(query=query, network_type='bike', simplify=False, retain_all=True)\n",
        "\n",
        "    # Lista para armazenar as arestas que não são ciclovias\n",
        "    non_cyc = []\n",
        "\n",
        "    # Itera sobre as arestas do grafo\n",
        "    for u, v, k, d in G.edges(keys=True, data=True):\n",
        "        bi = False\n",
        "        if \"bicycle\" in d and d['bicycle'] == 'designated':\n",
        "            bi = True\n",
        "\n",
        "        if d['highway'] != 'cycleway' and 'cycleway' not in d and not bi:\n",
        "            non_cyc.append((u, v, k))\n",
        "\n",
        "    # Remove as arestas que não são ciclovias\n",
        "    G.remove_edges_from(non_cyc)\n",
        "\n",
        "    # Remove nós isolados do grafo\n",
        "    G = ox.utils_graph.remove_isolated_nodes(G)\n",
        "\n",
        "    # Remove os nós que não são utilizados nas arestas\n",
        "    unused_nodes = [node for node, degree in dict(G.degree()).items() if degree == 0]\n",
        "    G.remove_nodes_from(unused_nodes)\n",
        "\n",
        "    # Simplifica o grafo\n",
        "    G = ox.simplify_graph(G)\n",
        "\n",
        "    return G"
      ],
      "metadata": {
        "id": "nN-vjwqjdDnZ"
      },
      "execution_count": null,
      "outputs": []
    },
    {
      "cell_type": "code",
      "source": [
        "place1 = \"São Paulo, Brazil\"\n",
        "G1 = get_cycleways_graph(place1)"
      ],
      "metadata": {
        "id": "FqMuP9hszKZ3",
        "colab": {
          "base_uri": "https://localhost:8080/"
        },
        "outputId": "3f9f788f-b62a-4c06-d6d9-14e66f44e879"
      },
      "execution_count": null,
      "outputs": [
        {
          "output_type": "stream",
          "name": "stderr",
          "text": [
            "<ipython-input-3-06547187d4d1>:4: UserWarning: The `utils.config` function is deprecated and will be removed in a future release. Instead, use the `settings` module directly to configure a global setting's value. For example, `ox.settings.log_console=True`.\n",
            "  ox.utils.config(use_cache=True, log_console=True, useful_tags_way=useful_tags)\n"
          ]
        }
      ]
    },
    {
      "cell_type": "code",
      "source": [
        "place2 = \"Amsterdam, Netherlands\"\n",
        "G2 = get_cycleways_graph(place2)"
      ],
      "metadata": {
        "id": "qfgH2Ei47wtn",
        "colab": {
          "base_uri": "https://localhost:8080/"
        },
        "outputId": "a9d4e866-3985-492d-913b-f9807028c274"
      },
      "execution_count": null,
      "outputs": [
        {
          "output_type": "stream",
          "name": "stderr",
          "text": [
            "<ipython-input-33-06547187d4d1>:4: UserWarning: The `utils.config` function is deprecated and will be removed in a future release. Instead, use the `settings` module directly to configure a global setting's value. For example, `ox.settings.log_console=True`.\n",
            "  ox.utils.config(use_cache=True, log_console=True, useful_tags_way=useful_tags)\n"
          ]
        }
      ]
    },
    {
      "cell_type": "code",
      "source": [
        "place3 = \"Berlin, Germany\"\n",
        "G3 = get_cycleways_graph(place3)"
      ],
      "metadata": {
        "id": "QouhYf2B71_f",
        "colab": {
          "base_uri": "https://localhost:8080/"
        },
        "outputId": "7fbace6b-d54f-4c51-aeea-3c0d4d0b97af"
      },
      "execution_count": null,
      "outputs": [
        {
          "output_type": "stream",
          "name": "stderr",
          "text": [
            "<ipython-input-33-06547187d4d1>:4: UserWarning: The `utils.config` function is deprecated and will be removed in a future release. Instead, use the `settings` module directly to configure a global setting's value. For example, `ox.settings.log_console=True`.\n",
            "  ox.utils.config(use_cache=True, log_console=True, useful_tags_way=useful_tags)\n"
          ]
        }
      ]
    },
    {
      "cell_type": "markdown",
      "source": [
        "#Análise Comparativa"
      ],
      "metadata": {
        "id": "4F1JIC7hnSEd"
      }
    },
    {
      "cell_type": "markdown",
      "source": [
        "##Density Based Stats"
      ],
      "metadata": {
        "id": "PvbGNA0O70hb"
      }
    },
    {
      "cell_type": "code",
      "source": [
        "#>>>>>>>>>>>>>>>>>>>>>> SÃO PAULO <<<<<<<<<<<<<<<<<<<<<<<<\n",
        "gdf = ox.geocode_to_gdf(place1)\n",
        "areaSP = ox.project_gdf(gdf).unary_union.area\n",
        "stats = ox.basic_stats(G1, area=areaSP)\n",
        "pd.Series(stats)"
      ],
      "metadata": {
        "colab": {
          "base_uri": "https://localhost:8080/"
        },
        "id": "tEXAoKco7TpP",
        "outputId": "803a8395-0ef1-45cc-d537-2ef433fc08db"
      },
      "execution_count": null,
      "outputs": [
        {
          "output_type": "execute_result",
          "data": {
            "text/plain": [
              "n                                                                            1511\n",
              "m                                                                            1883\n",
              "k_avg                                                                    2.492389\n",
              "edge_length_total                                                      726264.321\n",
              "edge_length_avg                                                        385.695338\n",
              "streets_per_node_avg                                                     3.054931\n",
              "streets_per_node_counts         {0: 0, 1: 136, 2: 75, 3: 943, 4: 287, 5: 68, 6...\n",
              "streets_per_node_proportions    {0: 0.0, 1: 0.0900066181336863, 2: 0.049636002...\n",
              "intersection_count                                                           1375\n",
              "street_length_total                                                    441312.741\n",
              "street_segment_count                                                         1195\n",
              "street_length_avg                                                      369.299365\n",
              "circuity_avg                                                             1.085556\n",
              "self_loop_proportion                                                     0.005021\n",
              "node_density_km                                                          0.992429\n",
              "intersection_density_km                                                  0.903104\n",
              "edge_density_km                                                        477.012384\n",
              "street_density_km                                                       289.85541\n",
              "dtype: object"
            ]
          },
          "metadata": {},
          "execution_count": 51
        }
      ]
    },
    {
      "cell_type": "code",
      "source": [
        "#>>>>>>>>>>>>>>>>>>>>>> AMSTERDAM <<<<<<<<<<<<<<<<<<<<<<<\n",
        "gdf = ox.geocode_to_gdf(place2)\n",
        "areaAMS = ox.project_gdf(gdf).unary_union.area\n",
        "stats = ox.basic_stats(G2, area=areaAMS)\n",
        "pd.Series(stats)"
      ],
      "metadata": {
        "colab": {
          "base_uri": "https://localhost:8080/"
        },
        "id": "MveIIv3879Rb",
        "outputId": "4d14aa79-4230-411b-fc21-e0b23dd670ed"
      },
      "execution_count": null,
      "outputs": [
        {
          "output_type": "execute_result",
          "data": {
            "text/plain": [
              "n                                                                            6301\n",
              "m                                                                           11445\n",
              "k_avg                                                                    3.632757\n",
              "edge_length_total                                                     1405839.129\n",
              "edge_length_avg                                                        122.834349\n",
              "streets_per_node_avg                                                     3.152992\n",
              "streets_per_node_counts         {0: 0, 1: 166, 2: 543, 3: 3922, 4: 1536, 5: 10...\n",
              "streets_per_node_proportions    {0: 0.0, 1: 0.026345024599269958, 2: 0.0861767...\n",
              "intersection_count                                                           6135\n",
              "street_length_total                                                    871407.268\n",
              "street_segment_count                                                         7235\n",
              "street_length_avg                                                      120.443299\n",
              "circuity_avg                                                               1.0444\n",
              "self_loop_proportion                                                     0.000829\n",
              "node_density_km                                                         28.716827\n",
              "intersection_density_km                                                 27.960282\n",
              "edge_density_km                                                        6407.11629\n",
              "street_density_km                                                     3971.441388\n",
              "dtype: object"
            ]
          },
          "metadata": {},
          "execution_count": 52
        }
      ]
    },
    {
      "cell_type": "code",
      "source": [
        "#>>>>>>>>>>>>>>>>>>>>>> BERLIN <<<<<<<<<<<<<<<<<<<<<<\n",
        "gdf = ox.geocode_to_gdf(place3)\n",
        "areaBER = ox.project_gdf(gdf).unary_union.area\n",
        "stats = ox.basic_stats(G3, area=areaBER)\n",
        "pd.Series(stats)"
      ],
      "metadata": {
        "colab": {
          "base_uri": "https://localhost:8080/"
        },
        "id": "BikyLyPJ797z",
        "outputId": "c11a33ca-978e-4f19-fe6f-213663e6e120"
      },
      "execution_count": null,
      "outputs": [
        {
          "output_type": "execute_result",
          "data": {
            "text/plain": [
              "n                                                                            6439\n",
              "m                                                                            8090\n",
              "k_avg                                                                    2.512813\n",
              "edge_length_total                                                     1650596.682\n",
              "edge_length_avg                                                        204.029256\n",
              "streets_per_node_avg                                                       2.9312\n",
              "streets_per_node_counts         {0: 0, 1: 804, 2: 907, 3: 2955, 4: 1511, 5: 23...\n",
              "streets_per_node_proportions    {0: 0.0, 1: 0.12486410933374748, 2: 0.14086038...\n",
              "intersection_count                                                           5635\n",
              "street_length_total                                                   1063512.025\n",
              "street_segment_count                                                         5557\n",
              "street_length_avg                                                      191.382405\n",
              "circuity_avg                                                             1.054404\n",
              "self_loop_proportion                                                      0.00126\n",
              "node_density_km                                                          7.229224\n",
              "intersection_density_km                                                  6.326553\n",
              "edge_density_km                                                       1853.165549\n",
              "street_density_km                                                     1194.031145\n",
              "dtype: object"
            ]
          },
          "metadata": {},
          "execution_count": 53
        }
      ]
    },
    {
      "cell_type": "markdown",
      "source": [
        "## Outras métricas"
      ],
      "metadata": {
        "id": "7VIeO2tN5JVi"
      }
    },
    {
      "cell_type": "code",
      "source": [
        "#CICLOVIA POR HABITANTE\n",
        "\n",
        "populacaoSP = 11451245\n",
        "populacaoAMS = 1603531\n",
        "populacaoBER = 3711930\n",
        "\n",
        "#Armazenando o comprimento (em metros) de ciclovias [retirados da função stats]\n",
        "comprimento_ciclovias_SP = ox.stats.street_length_total(ox.utils_graph.get_undirected(G1))\n",
        "comprimento_ciclovias_AMS = ox.stats.street_length_total(ox.utils_graph.get_undirected(G2))\n",
        "comprimento_ciclovias_BER = ox.stats.street_length_total(ox.utils_graph.get_undirected(G3))\n",
        "\n",
        "\n",
        "ciclovias_por_habitanteSP = comprimento_ciclovias_SP / populacaoSP\n",
        "ciclovias_por_habitanteAMS = comprimento_ciclovias_AMS / populacaoAMS\n",
        "ciclovias_por_habitanteBER = comprimento_ciclovias_BER / populacaoBER\n",
        "\n",
        "print(f\"Metros de ciclovias por habitante em São Paulo: {ciclovias_por_habitanteSP}\")\n",
        "print(f\"Metros de ciclovias por habitante em Amsterdã: {ciclovias_por_habitanteAMS}\")\n",
        "print(f\"Metros de ciclovias por habitante em Berlim: {ciclovias_por_habitanteBER}\")\n",
        "\n"
      ],
      "metadata": {
        "colab": {
          "base_uri": "https://localhost:8080/"
        },
        "id": "lcqQFQG_NM8e",
        "outputId": "c27a44ad-1dd8-4f38-cd1d-1fbde5c1cc57"
      },
      "execution_count": null,
      "outputs": [
        {
          "output_type": "stream",
          "name": "stdout",
          "text": [
            "Metros de ciclovias por habitante em São Paulo: 0.03853840704657005\n",
            "Metros de ciclovias por habitante em Amsterdã: 0.5434302598453048\n",
            "Metros de ciclovias por habitante em Berlim: 0.28651187522394034\n"
          ]
        }
      ]
    },
    {
      "cell_type": "code",
      "source": [
        "# DENSIDADE DE CICLOVIAS\n",
        "\n",
        "# Calcula a densidade de ciclovias\n",
        "densidade_ciclovias_SP = comprimento_ciclovias_SP / areaSP * 1000000\n",
        "print(f\"Densidade de ciclovias em São Paulo: {densidade_ciclovias_SP} metros por quilômetro quadrado\")\n",
        "\n",
        "densidade_ciclovias_AMS = comprimento_ciclovias_AMS / areaAMS * 1000000\n",
        "print(f\"Densidade de ciclovias em Amesterdã: {densidade_ciclovias_AMS} metros por quilômetro quadrado\")\n",
        "\n",
        "densidade_ciclovias_BER = comprimento_ciclovias_BER / areaBER * 1000000\n",
        "print(f\"Densidade de ciclovias Berlim: {densidade_ciclovias_BER} metros por quilômetro quadrado\")"
      ],
      "metadata": {
        "colab": {
          "base_uri": "https://localhost:8080/"
        },
        "id": "NWzuIUhw0b4s",
        "outputId": "aa42f397-755e-4f02-fc34-e22f0d823773"
      },
      "execution_count": null,
      "outputs": [
        {
          "output_type": "stream",
          "name": "stdout",
          "text": [
            "Densidade de ciclovias em São Paulo: 289.8554099103693 metros por quilômetro quadrado\n",
            "Densidade de ciclovias em Amesterdã: 3971.441388233188 metros por quilômetro quadrado\n",
            "Densidade de ciclovias Berlim: 1194.0311446996689 metros por quilômetro quadrado\n"
          ]
        }
      ]
    },
    {
      "cell_type": "markdown",
      "source": [
        "# Identificação de Áreas Críticas"
      ],
      "metadata": {
        "id": "csTMJxJX8aso"
      }
    },
    {
      "cell_type": "markdown",
      "source": [],
      "metadata": {
        "id": "IohbiOKW8fuQ"
      }
    },
    {
      "cell_type": "code",
      "source": [],
      "metadata": {
        "id": "LL4xCPlz8pR6"
      },
      "execution_count": null,
      "outputs": []
    }
  ]
}